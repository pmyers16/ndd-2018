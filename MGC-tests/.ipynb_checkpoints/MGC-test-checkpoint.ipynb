{
 "cells": [
  {
   "cell_type": "code",
   "execution_count": 1,
   "metadata": {},
   "outputs": [],
   "source": [
    "library(mgc)\n",
    "library(reshape2)\n",
    "library(ggplot2)"
   ]
  },
  {
   "cell_type": "code",
   "execution_count": 2,
   "metadata": {},
   "outputs": [],
   "source": [
    "plot_sim_func <- function(X, Y, Xf, Yf, name, geom='line') {\n",
    "  if (!is.null(dim(Y))) {\n",
    "    Y <- Y[, 1]\n",
    "    Yf <- Yf[, 1]\n",
    "  }\n",
    "  if (geom == 'points') {\n",
    "    funcgeom <- geom_point\n",
    "  } else {\n",
    "    funcgeom <- geom_line\n",
    "  }\n",
    "  data <- data.frame(x1=X[,1], y=Y)\n",
    "  data_func <- data.frame(x1=Xf[,1], y=Yf)\n",
    "  ggplot(data, aes(x=x1, y=y)) +\n",
    "    funcgeom(data=data_func, aes(x=x1, y=y), color='red', size=3) +\n",
    "    geom_point() +\n",
    "    xlab(\"x\") +\n",
    "    ylab(\"y\") +\n",
    "    ggtitle(name) +\n",
    "    theme_bw()\n",
    "}\n",
    "plot_mtx <- function(Dx, main.title=\"Local Correlation Map\", xlab.title=\"# X Neighbors\", ylab.title=\"# Y Neighbors\") {\n",
    "  data <- melt(Dx)\n",
    "  ggplot(data, aes(x=Var1, y=Var2, fill=value)) +\n",
    "    geom_tile() +\n",
    "    scale_fill_gradientn(name=\"l-corr\",\n",
    "                         colours=c(\"#f2f0f7\", \"#cbc9e2\", \"#9e9ac8\", \"#6a51a3\"),\n",
    "                         limits=c(min(Dx), max(Dx))) +\n",
    "    xlab(xlab.title) +\n",
    "    ylab(ylab.title) +\n",
    "    theme_bw() +\n",
    "    ggtitle(main.title)\n",
    "}"
   ]
  },
  {
   "cell_type": "code",
   "execution_count": 3,
   "metadata": {},
   "outputs": [
    {
     "name": "stdout",
     "output_type": "stream",
     "text": [
      " [1] 1 1 1 0 0 0 1 0 0 0 0 0 0 1 0 0 0 1 0 0 0 0 1 0 0 0 0 0 0 0 0 0 0 0 1 0 0 0\n",
      "[39] 0 0 0 0 0 0 0 0 1 0 0 0 1 0 1 1 0 0 1 0 0 0 0 0 1 1 0 0 1 1 1 1 0 1 1 0 0 1\n",
      "[77] 0 1 0 1 1 0 0 1 1 1 1 0 1 0 0\n"
     ]
    }
   ],
   "source": [
    "set.seed(12345)\n",
    "dat <- read.csv(\"hbn_vertexstats.csv\", header = TRUE)\n",
    "Y1 <- dat[,2]\n",
    "Y2 <- dat[,3]\n",
    "Y2 <- Y2 > 10.5\n",
    "Y2 <- as.numeric(Y2)\n",
    "print(Y1)"
   ]
  },
  {
   "cell_type": "code",
   "execution_count": null,
   "metadata": {},
   "outputs": [],
   "source": [
    "zeromat <- matrix(1:288, nrow = 288, ncol=6)\n",
    "mgctests <- array(0L, dim(zeromat))\n",
    "\n",
    "count <- 1\n",
    "\n",
    "for(i in 4:291){\n",
    "  X <- dat[,i]\n",
    "  Xdat <- array(as.numeric(unlist(X)), dim=c(91,1))\n",
    "  YDat <- array(as.numeric(unlist(Y1)), dim=c(91,1))\n",
    "  res <- mgc.test(Xdat,YDat, rep=20)\n",
    "  val <- res$statMGC\n",
    "  p_val <- res$pMGC\n",
    "  scale <- res$optimalScale\n",
    "\n",
    "  mgctests[count,1] = val\n",
    "  mgctests[count,2] = 'Xdat'\n",
    "  mgctests[count,3] = 'YDat'\n",
    "  mgctests[count,4] = p_val\n",
    "  mgctests[count,5] = scale$x\n",
    "  mgctests[count,6] = scale$y\n",
    "  count <- count +1\n",
    "}\n",
    "mgctests"
   ]
  }
 ],
 "metadata": {
  "kernelspec": {
   "display_name": "R",
   "language": "R",
   "name": "ir"
  },
  "language_info": {
   "codemirror_mode": "r",
   "file_extension": ".r",
   "mimetype": "text/x-r-source",
   "name": "R",
   "pygments_lexer": "r",
   "version": "3.5.1"
  }
 },
 "nbformat": 4,
 "nbformat_minor": 2
}
