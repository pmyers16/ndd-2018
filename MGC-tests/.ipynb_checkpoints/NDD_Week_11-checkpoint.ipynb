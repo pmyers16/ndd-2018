{
 "cells": [
  {
   "cell_type": "code",
   "execution_count": 6,
   "metadata": {},
   "outputs": [],
   "source": [
    "import sys\n",
    "import glob\n",
    "import pandas as pd\n",
    "import numpy as np\n",
    "import subprocess\n",
    "import matplotlib.pyplot as plt\n",
    "import matplotlib.patches as mpatches\n",
    "import seaborn as sns"
   ]
  },
  {
   "cell_type": "code",
   "execution_count": 30,
   "metadata": {},
   "outputs": [
    {
     "data": {
      "text/plain": [
       "array([[ 1.        ,  0.17790699,  0.16001002, ...,  0.12749308,\n",
       "         0.12663997,  0.12589999],\n",
       "       [ 2.        ,  0.22904327,  0.25985666, ...,  0.22428577,\n",
       "         0.22284787,  0.22158173],\n",
       "       [ 3.        ,  0.21575505,  0.24560339, ...,  0.27691967,\n",
       "         0.27529789,  0.27382163],\n",
       "       ...,\n",
       "       [68.        ,  0.22764976,  0.30527302, ...,  0.9483246 ,\n",
       "         0.94684936,  0.94328312],\n",
       "       [69.        ,  0.22634737,  0.30349484, ...,  0.94695023,\n",
       "         0.94737897,  0.94619321],\n",
       "       [70.        ,  0.22540233,  0.3022107 , ...,  0.94419069,\n",
       "         0.94605409,  0.94702757]])"
      ]
     },
     "execution_count": 30,
     "metadata": {},
     "output_type": "execute_result"
    }
   ],
   "source": [
    "corr = pd.read_csv('Example_corr.csv')\n",
    "corr.drop(df.columns[1], axis=1)\n",
    "corr = corr.values\n",
    "corr"
   ]
  },
  {
   "cell_type": "code",
   "execution_count": 18,
   "metadata": {},
   "outputs": [
    {
     "data": {
      "image/png": "[encoded data removed]",
      "text/plain": [
       "<Figure size 720x720 with 2 Axes>"
      ]
     },
     "metadata": {},
     "output_type": "display_data"
    }
   ],
   "source": [
    "with sns.plotting_context('talk'):\n",
    "    fig, ax = plt.subplots(figsize=(10, 10))\n",
    "    plot = sns.heatmap(np.flipud(corr), ax=ax, square=True, cbar_kws = dict(shrink=0.7), xticklabels=False,\n",
    "            yticklabels=False)\n",
    "    plot.set_title('p-value = {:.3f}, statistic= {:.3f}'.format(0.000, 0.984))"
   ]
  },
  {
   "cell_type": "code",
   "execution_count": null,
   "metadata": {},
   "outputs": [],
   "source": []
  }
 ],
 "metadata": {
  "kernelspec": {
   "display_name": "Python 3",
   "language": "python",
   "name": "python3"
  },
  "language_info": {
   "codemirror_mode": {
    "name": "ipython",
    "version": 3
   },
   "file_extension": ".py",
   "mimetype": "text/x-python",
   "name": "python",
   "nbconvert_exporter": "python",
   "pygments_lexer": "ipython3",
   "version": "3.6.5"
  }
 },
 "nbformat": 4,
 "nbformat_minor": 2
}
